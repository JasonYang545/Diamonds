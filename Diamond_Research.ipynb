{
 "cells": [
  {
   "cell_type": "code",
   "execution_count": 1,
   "metadata": {},
   "outputs": [],
   "source": [
    "# import lbraries under speciified aliases\n",
    "import pandas as pd\n",
    "import numpy as np\n",
    "import os\n",
    "import matplotlib.pyplot as plt\n",
    "import statsmodels.api as sm"
   ]
  },
  {
   "cell_type": "code",
   "execution_count": 2,
   "metadata": {},
   "outputs": [
    {
     "data": {
      "text/html": [
       "<div>\n",
       "<style scoped>\n",
       "    .dataframe tbody tr th:only-of-type {\n",
       "        vertical-align: middle;\n",
       "    }\n",
       "\n",
       "    .dataframe tbody tr th {\n",
       "        vertical-align: top;\n",
       "    }\n",
       "\n",
       "    .dataframe thead th {\n",
       "        text-align: right;\n",
       "    }\n",
       "</style>\n",
       "<table border=\"1\" class=\"dataframe\">\n",
       "  <thead>\n",
       "    <tr style=\"text-align: right;\">\n",
       "      <th></th>\n",
       "      <th>Unnamed: 0</th>\n",
       "      <th>carat</th>\n",
       "      <th>cut</th>\n",
       "      <th>color</th>\n",
       "      <th>clarity</th>\n",
       "      <th>depth</th>\n",
       "      <th>table</th>\n",
       "      <th>price</th>\n",
       "      <th>x</th>\n",
       "      <th>y</th>\n",
       "      <th>z</th>\n",
       "    </tr>\n",
       "  </thead>\n",
       "  <tbody>\n",
       "    <tr>\n",
       "      <th>0</th>\n",
       "      <td>1</td>\n",
       "      <td>0.23</td>\n",
       "      <td>Ideal</td>\n",
       "      <td>E</td>\n",
       "      <td>SI2</td>\n",
       "      <td>61.5</td>\n",
       "      <td>55.0</td>\n",
       "      <td>326</td>\n",
       "      <td>3.95</td>\n",
       "      <td>3.98</td>\n",
       "      <td>2.43</td>\n",
       "    </tr>\n",
       "    <tr>\n",
       "      <th>1</th>\n",
       "      <td>2</td>\n",
       "      <td>0.21</td>\n",
       "      <td>Premium</td>\n",
       "      <td>E</td>\n",
       "      <td>SI1</td>\n",
       "      <td>59.8</td>\n",
       "      <td>61.0</td>\n",
       "      <td>326</td>\n",
       "      <td>3.89</td>\n",
       "      <td>3.84</td>\n",
       "      <td>2.31</td>\n",
       "    </tr>\n",
       "    <tr>\n",
       "      <th>2</th>\n",
       "      <td>3</td>\n",
       "      <td>0.23</td>\n",
       "      <td>Good</td>\n",
       "      <td>E</td>\n",
       "      <td>VS1</td>\n",
       "      <td>56.9</td>\n",
       "      <td>65.0</td>\n",
       "      <td>327</td>\n",
       "      <td>4.05</td>\n",
       "      <td>4.07</td>\n",
       "      <td>2.31</td>\n",
       "    </tr>\n",
       "    <tr>\n",
       "      <th>3</th>\n",
       "      <td>4</td>\n",
       "      <td>0.29</td>\n",
       "      <td>Premium</td>\n",
       "      <td>I</td>\n",
       "      <td>VS2</td>\n",
       "      <td>62.4</td>\n",
       "      <td>58.0</td>\n",
       "      <td>334</td>\n",
       "      <td>4.20</td>\n",
       "      <td>4.23</td>\n",
       "      <td>2.63</td>\n",
       "    </tr>\n",
       "    <tr>\n",
       "      <th>4</th>\n",
       "      <td>5</td>\n",
       "      <td>0.31</td>\n",
       "      <td>Good</td>\n",
       "      <td>J</td>\n",
       "      <td>SI2</td>\n",
       "      <td>63.3</td>\n",
       "      <td>58.0</td>\n",
       "      <td>335</td>\n",
       "      <td>4.34</td>\n",
       "      <td>4.35</td>\n",
       "      <td>2.75</td>\n",
       "    </tr>\n",
       "  </tbody>\n",
       "</table>\n",
       "</div>"
      ],
      "text/plain": [
       "   Unnamed: 0  carat      cut color clarity  depth  table  price     x     y  \\\n",
       "0           1   0.23    Ideal     E     SI2   61.5   55.0    326  3.95  3.98   \n",
       "1           2   0.21  Premium     E     SI1   59.8   61.0    326  3.89  3.84   \n",
       "2           3   0.23     Good     E     VS1   56.9   65.0    327  4.05  4.07   \n",
       "3           4   0.29  Premium     I     VS2   62.4   58.0    334  4.20  4.23   \n",
       "4           5   0.31     Good     J     SI2   63.3   58.0    335  4.34  4.35   \n",
       "\n",
       "      z  \n",
       "0  2.43  \n",
       "1  2.31  \n",
       "2  2.31  \n",
       "3  2.63  \n",
       "4  2.75  "
      ]
     },
     "execution_count": 2,
     "metadata": {},
     "output_type": "execute_result"
    }
   ],
   "source": [
    "# import dataset\n",
    "diamonds = pd.read_csv('diamonds.csv')\n",
    "diamonds.head()"
   ]
  },
  {
   "cell_type": "markdown",
   "metadata": {},
   "source": [
    "## Initial Analysis \n",
    "The aim of this project and its analysis will focus solely on the price and carat characterisitcs of each diamond observation. The code below will construct seperate dataframes that copies only the `carat` and `price` columns from the original `diamonds` dataset. These dataframes retains the same 53,940 diamond observations from our original dataset. "
   ]
  },
  {
   "cell_type": "code",
   "execution_count": 3,
   "metadata": {},
   "outputs": [
    {
     "data": {
      "text/html": [
       "<div>\n",
       "<style scoped>\n",
       "    .dataframe tbody tr th:only-of-type {\n",
       "        vertical-align: middle;\n",
       "    }\n",
       "\n",
       "    .dataframe tbody tr th {\n",
       "        vertical-align: top;\n",
       "    }\n",
       "\n",
       "    .dataframe thead th {\n",
       "        text-align: right;\n",
       "    }\n",
       "</style>\n",
       "<table border=\"1\" class=\"dataframe\">\n",
       "  <thead>\n",
       "    <tr style=\"text-align: right;\">\n",
       "      <th></th>\n",
       "      <th>carat</th>\n",
       "      <th>price</th>\n",
       "    </tr>\n",
       "  </thead>\n",
       "  <tbody>\n",
       "    <tr>\n",
       "      <th>0</th>\n",
       "      <td>0.23</td>\n",
       "      <td>326</td>\n",
       "    </tr>\n",
       "    <tr>\n",
       "      <th>1</th>\n",
       "      <td>0.21</td>\n",
       "      <td>326</td>\n",
       "    </tr>\n",
       "    <tr>\n",
       "      <th>2</th>\n",
       "      <td>0.23</td>\n",
       "      <td>327</td>\n",
       "    </tr>\n",
       "    <tr>\n",
       "      <th>3</th>\n",
       "      <td>0.29</td>\n",
       "      <td>334</td>\n",
       "    </tr>\n",
       "    <tr>\n",
       "      <th>4</th>\n",
       "      <td>0.31</td>\n",
       "      <td>335</td>\n",
       "    </tr>\n",
       "    <tr>\n",
       "      <th>...</th>\n",
       "      <td>...</td>\n",
       "      <td>...</td>\n",
       "    </tr>\n",
       "    <tr>\n",
       "      <th>53935</th>\n",
       "      <td>0.72</td>\n",
       "      <td>2757</td>\n",
       "    </tr>\n",
       "    <tr>\n",
       "      <th>53936</th>\n",
       "      <td>0.72</td>\n",
       "      <td>2757</td>\n",
       "    </tr>\n",
       "    <tr>\n",
       "      <th>53937</th>\n",
       "      <td>0.70</td>\n",
       "      <td>2757</td>\n",
       "    </tr>\n",
       "    <tr>\n",
       "      <th>53938</th>\n",
       "      <td>0.86</td>\n",
       "      <td>2757</td>\n",
       "    </tr>\n",
       "    <tr>\n",
       "      <th>53939</th>\n",
       "      <td>0.75</td>\n",
       "      <td>2757</td>\n",
       "    </tr>\n",
       "  </tbody>\n",
       "</table>\n",
       "<p>53940 rows × 2 columns</p>\n",
       "</div>"
      ],
      "text/plain": [
       "       carat  price\n",
       "0       0.23    326\n",
       "1       0.21    326\n",
       "2       0.23    327\n",
       "3       0.29    334\n",
       "4       0.31    335\n",
       "...      ...    ...\n",
       "53935   0.72   2757\n",
       "53936   0.72   2757\n",
       "53937   0.70   2757\n",
       "53938   0.86   2757\n",
       "53939   0.75   2757\n",
       "\n",
       "[53940 rows x 2 columns]"
      ]
     },
     "execution_count": 3,
     "metadata": {},
     "output_type": "execute_result"
    }
   ],
   "source": [
    "# seperate dataframe that copies only carat and price columns from original dataset\n",
    "cp = diamonds[[\"carat\",\"price\"]].copy()\n",
    "cp"
   ]
  },
  {
   "cell_type": "markdown",
   "metadata": {},
   "source": [
    "To make use of the `cp` dataset for data analysis and visualizations, we need to account that there are several diamond observations in `cp` with the same `carat` weight but different `price` . This overlap in values lead to messy data and makes interpreting visuals such as a line graph difficult due to a specific\n",
    "`carat` value corresponding to multiple `price` values. The code below resolves this issue by using the\n",
    "`groupby()` function on `cp` to make a new dataframe `carat_price` where each row in `carat` column is an unique value and `price` is the average price of all diamonds of that `carat` weight. Note that `carat_price` has 273 rows or unique `carat` values in ascending order."
   ]
  },
  {
   "cell_type": "code",
   "execution_count": 4,
   "metadata": {},
   "outputs": [
    {
     "data": {
      "text/html": [
       "<div>\n",
       "<style scoped>\n",
       "    .dataframe tbody tr th:only-of-type {\n",
       "        vertical-align: middle;\n",
       "    }\n",
       "\n",
       "    .dataframe tbody tr th {\n",
       "        vertical-align: top;\n",
       "    }\n",
       "\n",
       "    .dataframe thead th {\n",
       "        text-align: right;\n",
       "    }\n",
       "</style>\n",
       "<table border=\"1\" class=\"dataframe\">\n",
       "  <thead>\n",
       "    <tr style=\"text-align: right;\">\n",
       "      <th></th>\n",
       "      <th>carat</th>\n",
       "      <th>price</th>\n",
       "    </tr>\n",
       "  </thead>\n",
       "  <tbody>\n",
       "    <tr>\n",
       "      <th>0</th>\n",
       "      <td>0.20</td>\n",
       "      <td>365.166667</td>\n",
       "    </tr>\n",
       "    <tr>\n",
       "      <th>1</th>\n",
       "      <td>0.21</td>\n",
       "      <td>380.222222</td>\n",
       "    </tr>\n",
       "    <tr>\n",
       "      <th>2</th>\n",
       "      <td>0.22</td>\n",
       "      <td>391.400000</td>\n",
       "    </tr>\n",
       "    <tr>\n",
       "      <th>3</th>\n",
       "      <td>0.23</td>\n",
       "      <td>486.143345</td>\n",
       "    </tr>\n",
       "    <tr>\n",
       "      <th>4</th>\n",
       "      <td>0.24</td>\n",
       "      <td>505.185039</td>\n",
       "    </tr>\n",
       "    <tr>\n",
       "      <th>...</th>\n",
       "      <td>...</td>\n",
       "      <td>...</td>\n",
       "    </tr>\n",
       "    <tr>\n",
       "      <th>268</th>\n",
       "      <td>4.00</td>\n",
       "      <td>15984.000000</td>\n",
       "    </tr>\n",
       "    <tr>\n",
       "      <th>269</th>\n",
       "      <td>4.01</td>\n",
       "      <td>15223.000000</td>\n",
       "    </tr>\n",
       "    <tr>\n",
       "      <th>270</th>\n",
       "      <td>4.13</td>\n",
       "      <td>17329.000000</td>\n",
       "    </tr>\n",
       "    <tr>\n",
       "      <th>271</th>\n",
       "      <td>4.50</td>\n",
       "      <td>18531.000000</td>\n",
       "    </tr>\n",
       "    <tr>\n",
       "      <th>272</th>\n",
       "      <td>5.01</td>\n",
       "      <td>18018.000000</td>\n",
       "    </tr>\n",
       "  </tbody>\n",
       "</table>\n",
       "<p>273 rows × 2 columns</p>\n",
       "</div>"
      ],
      "text/plain": [
       "     carat         price\n",
       "0     0.20    365.166667\n",
       "1     0.21    380.222222\n",
       "2     0.22    391.400000\n",
       "3     0.23    486.143345\n",
       "4     0.24    505.185039\n",
       "..     ...           ...\n",
       "268   4.00  15984.000000\n",
       "269   4.01  15223.000000\n",
       "270   4.13  17329.000000\n",
       "271   4.50  18531.000000\n",
       "272   5.01  18018.000000\n",
       "\n",
       "[273 rows x 2 columns]"
      ]
     },
     "execution_count": 4,
     "metadata": {},
     "output_type": "execute_result"
    }
   ],
   "source": [
    "carat_price = cp.groupby(\"carat\").mean().reset_index().copy()\n",
    "carat_price"
   ]
  },
  {
   "cell_type": "markdown",
   "metadata": {},
   "source": [
    "Using the describe() function on carat_price , we can see that the average carat size is 1.6088 carats with minimum value being .2 carats and maximum being 5.01 carats. For price , we see the average value as 9242.67 with minimum value as 365.17 and maximum of 18701.00. In interpreting this information, it is important to reconginze that the function is called on carat_price where each price adjacent to each carat observation is an average of prices so the minimum price of 365.17 is the minimum average price."
   ]
  },
  {
   "cell_type": "code",
   "execution_count": 5,
   "metadata": {},
   "outputs": [
    {
     "data": {
      "text/html": [
       "<div>\n",
       "<style scoped>\n",
       "    .dataframe tbody tr th:only-of-type {\n",
       "        vertical-align: middle;\n",
       "    }\n",
       "\n",
       "    .dataframe tbody tr th {\n",
       "        vertical-align: top;\n",
       "    }\n",
       "\n",
       "    .dataframe thead th {\n",
       "        text-align: right;\n",
       "    }\n",
       "</style>\n",
       "<table border=\"1\" class=\"dataframe\">\n",
       "  <thead>\n",
       "    <tr style=\"text-align: right;\">\n",
       "      <th></th>\n",
       "      <th>carat</th>\n",
       "      <th>price</th>\n",
       "    </tr>\n",
       "  </thead>\n",
       "  <tbody>\n",
       "    <tr>\n",
       "      <th>count</th>\n",
       "      <td>273.000000</td>\n",
       "      <td>273.000000</td>\n",
       "    </tr>\n",
       "    <tr>\n",
       "      <th>mean</th>\n",
       "      <td>1.608791</td>\n",
       "      <td>9242.669570</td>\n",
       "    </tr>\n",
       "    <tr>\n",
       "      <th>std</th>\n",
       "      <td>0.894875</td>\n",
       "      <td>5606.869496</td>\n",
       "    </tr>\n",
       "    <tr>\n",
       "      <th>min</th>\n",
       "      <td>0.200000</td>\n",
       "      <td>365.166667</td>\n",
       "    </tr>\n",
       "    <tr>\n",
       "      <th>25%</th>\n",
       "      <td>0.880000</td>\n",
       "      <td>3342.322581</td>\n",
       "    </tr>\n",
       "    <tr>\n",
       "      <th>50%</th>\n",
       "      <td>1.560000</td>\n",
       "      <td>10424.000000</td>\n",
       "    </tr>\n",
       "    <tr>\n",
       "      <th>75%</th>\n",
       "      <td>2.240000</td>\n",
       "      <td>14481.333333</td>\n",
       "    </tr>\n",
       "    <tr>\n",
       "      <th>max</th>\n",
       "      <td>5.010000</td>\n",
       "      <td>18701.000000</td>\n",
       "    </tr>\n",
       "  </tbody>\n",
       "</table>\n",
       "</div>"
      ],
      "text/plain": [
       "            carat         price\n",
       "count  273.000000    273.000000\n",
       "mean     1.608791   9242.669570\n",
       "std      0.894875   5606.869496\n",
       "min      0.200000    365.166667\n",
       "25%      0.880000   3342.322581\n",
       "50%      1.560000  10424.000000\n",
       "75%      2.240000  14481.333333\n",
       "max      5.010000  18701.000000"
      ]
     },
     "execution_count": 5,
     "metadata": {},
     "output_type": "execute_result"
    }
   ],
   "source": [
    "carat_price.describe()"
   ]
  },
  {
   "cell_type": "markdown",
   "metadata": {},
   "source": [
    "To develop a greater understanding of the distribution of carats across our carat_price dataset, the code below uses the `groupby()` function to group the counts of observations into each bin interval listed in bins . While the `describe()` function we used above indicated that our mean carat value is 1.6088 carats, this code output reflects this statistic and further shows the distribution of our 273 unique\n",
    "carat values. We can see there is a concentration of data/diamonds between one and two carats with the majority of our data being within 0 and 3 carats."
   ]
  },
  {
   "cell_type": "code",
   "execution_count": 7,
   "metadata": {},
   "outputs": [
    {
     "data": {
      "text/plain": [
       "(0, 1]     81\n",
       "(1, 2]    100\n",
       "(2, 3]     75\n",
       "(3, 4]     13\n",
       "(4, 5]      3\n",
       "Name: carat, dtype: int64"
      ]
     },
     "execution_count": 7,
     "metadata": {},
     "output_type": "execute_result"
    }
   ],
   "source": [
    "bins = pd.cut(x=carat_price[\"carat\"], bins = [0,1,2,3,4,5])\n",
    "bins.groupby(bins.values).count()"
   ]
  },
  {
   "cell_type": "markdown",
   "metadata": {},
   "source": [
    "The code below generates a line graph with `carat` (explanatory variable) on the x-axis and `price` (response variable) on the y-axis. I chose to utilize a line graph as  both variables are continuous and provides insight on the trends/patterns between the two variables. Looking at the graph, we can observe a positive trend between carat and price where price increases as carat weight increases. We can also see that the trend is relatively steady between one and two carats, but begins to vary past two carats. Although the graph is limited in providing more information on the association, it is a good starting point to recongnize the two variables are indeed associated as there exists a trend. <br>\n",
    "**Note:** trend invariablility past 2 carats is from the lack of sufficient data for diamonds >2 carats.  "
   ]
  },
  {
   "cell_type": "code",
   "execution_count": 9,
   "metadata": {},
   "outputs": [
    {
     "data": {
      "image/png": "[encoded data removed]",
      "text/plain": [
       "<Figure size 432x288 with 1 Axes>"
      ]
     },
     "metadata": {
      "needs_background": "light"
     },
     "output_type": "display_data"
    }
   ],
   "source": [
    "plt.plot(\"carat\", \"price\", data=carat_price);\n",
    "plt.xlabel(\"Carat\");\n",
    "plt.ylabel(\"Price\");"
   ]
  },
  {
   "cell_type": "markdown",
   "metadata": {},
   "source": [
    "The code below generates a scatter plot with carat , our explanatory variable, on the x-axis and price , our response variable, on the y-axis. In our line graph, we pointed out that past 2 carats, the trend tends to vary with a weaker trend. I wish to understand this inconsistency by plotting values in our carat_price dataset to visualize association and potential outliers. The general outline of our scatterplot resembles that of our line graph, but we're able to view the outliers that appear past three carats. There is a clear positive association between carat and price and we are able to identify that the trend variability in our line graph is due to outliers. A scatterplot is appropriate in this case as we are dealing with two continuous numerical variables and wish to identify association."
   ]
  },
  {
   "cell_type": "code",
   "execution_count": 10,
   "metadata": {},
   "outputs": [
    {
     "data": {
      "image/png": "[encoded data removed]",
      "text/plain": [
       "<Figure size 432x288 with 1 Axes>"
      ]
     },
     "metadata": {
      "needs_background": "light"
     },
     "output_type": "display_data"
    }
   ],
   "source": [
    "plt.scatter(carat_price[\"carat\"], carat_price[\"price\"], alpha=0.25);\n",
    "plt.xlabel(\"Carat\");\n",
    "plt.ylabel(\"Price\");"
   ]
  },
  {
   "cell_type": "markdown",
   "metadata": {},
   "source": [
    "We grouped the distribution of our data into 5 bins, each representing a scalar/discrete carat value. While we established that the majority of our diamonds are between one and three carats, let's visualize this distribution via histogram. The histogram explains the concentration of our data and why their is a strong linear association between within 3 carats and weak association beyond 3 carats. "
   ]
  },
  {
   "cell_type": "code",
   "execution_count": 11,
   "metadata": {},
   "outputs": [
    {
     "data": {
      "image/png": "[encoded data removed]",
      "text/plain": [
       "<Figure size 432x288 with 1 Axes>"
      ]
     },
     "metadata": {
      "needs_background": "light"
     },
     "output_type": "display_data"
    }
   ],
   "source": [
    "plt.hist(carat_price[\"carat\"], bins=[0,1,2,3,4,5], density=True, rwidth=0.95, alpha=0.75);\n",
    "plt.xlabel(\"Carat\");\n",
    "plt.ylabel(\"Distribution\");"
   ]
  },
  {
   "cell_type": "markdown",
   "metadata": {},
   "source": [
    "## Hypothesis Formation"
   ]
  },
  {
   "cell_type": "markdown",
   "metadata": {},
   "source": [
    "The question of our analyis is how the carat weight affects the price of a diamond. Our dependent variable is the price of the diamond and our independent variable is the carat weight of such diamond.\n",
    "carat refers to how much a diamond weighs under the unit and scale of one metric carat as 200 milligrams. Our dependent variable price is measured in US Dollars."
   ]
  },
  {
   "cell_type": "markdown",
   "metadata": {},
   "source": [
    "To calculate the correlation coeffecient, ***r*** , we use the .corr() function which computes the linear relationship between price and carat . The function shows that the correlation coefficient on\n",
    "carat_price is 0.89784."
   ]
  },
  {
   "cell_type": "code",
   "execution_count": 12,
   "metadata": {},
   "outputs": [
    {
     "data": {
      "text/html": [
       "<div>\n",
       "<style scoped>\n",
       "    .dataframe tbody tr th:only-of-type {\n",
       "        vertical-align: middle;\n",
       "    }\n",
       "\n",
       "    .dataframe tbody tr th {\n",
       "        vertical-align: top;\n",
       "    }\n",
       "\n",
       "    .dataframe thead th {\n",
       "        text-align: right;\n",
       "    }\n",
       "</style>\n",
       "<table border=\"1\" class=\"dataframe\">\n",
       "  <thead>\n",
       "    <tr style=\"text-align: right;\">\n",
       "      <th></th>\n",
       "      <th>carat</th>\n",
       "      <th>price</th>\n",
       "    </tr>\n",
       "  </thead>\n",
       "  <tbody>\n",
       "    <tr>\n",
       "      <th>carat</th>\n",
       "      <td>1.00000</td>\n",
       "      <td>0.89784</td>\n",
       "    </tr>\n",
       "    <tr>\n",
       "      <th>price</th>\n",
       "      <td>0.89784</td>\n",
       "      <td>1.00000</td>\n",
       "    </tr>\n",
       "  </tbody>\n",
       "</table>\n",
       "</div>"
      ],
      "text/plain": [
       "         carat    price\n",
       "carat  1.00000  0.89784\n",
       "price  0.89784  1.00000"
      ]
     },
     "execution_count": 12,
     "metadata": {},
     "output_type": "execute_result"
    }
   ],
   "source": [
    "carat_price.corr()"
   ]
  },
  {
   "cell_type": "markdown",
   "metadata": {},
   "source": [
    "The function `r_scatter()` helps us visual the correlation coefficient of our dataset. Observe that a correlation coefficient of 0.89784 reflects a relatively positive strong relation between price and carat where price increases as carat increases."
   ]
  },
  {
   "cell_type": "code",
   "execution_count": 14,
   "metadata": {},
   "outputs": [
    {
     "data": {
      "image/png": "[encoded data removed]",
      "text/plain": [
       "<Figure size 432x288 with 1 Axes>"
      ]
     },
     "metadata": {
      "needs_background": "light"
     },
     "output_type": "display_data"
    }
   ],
   "source": [
    "def r_scatter(r):\n",
    "    x = np.random.normal(0 ,1, 1000)\n",
    "    z = np.random.normal(0 ,1, 1000)\n",
    "    y = r*x + (np.sqrt(1-r**2))*z\n",
    "    plt.scatter(x, y, color='darkblue', s=20)\n",
    "    plt.xlim(-4,4)\n",
    "    plt.ylim(-4,4)\n",
    "r_scatter(0.89784)"
   ]
  },
  {
   "cell_type": "markdown",
   "metadata": {},
   "source": [
    "Our regression model as an equation: <br>\n",
    "**$$price_i = \\alpha + \\beta * carat_i = e_i$$** <br>\n",
    "**$H_0$** : $\\beta=0$. The true slope of the regression line that predicts price from carat is 0. If the slope of the\n",
    "computed regression line within our sample is not 0, it is due to chance variation. <br>\n",
    "**$H_1$** : $\\beta \\neq{0}$. The true slope of the regression line is not 0 and not due to chance variation."
   ]
  },
  {
   "cell_type": "markdown",
   "metadata": {},
   "source": [
    "## Regression Analysis"
   ]
  },
  {
   "cell_type": "markdown",
   "metadata": {},
   "source": [
    "The code below estimates the regression formula: $price_i = \\alpha + \\beta * carat_i = e_i$ where $\\alpha$ represents the intercept and $\\beta$ as the slope. We first store our independent variable, `carat` in variable x and our dependent variable, `price` into y . Since we are trying to estimate a linear equation, we add a constant to our independent variable `x` . Next, using the **Ordinary Least Squares( `OLS()` )** model function from our inported statsmodels.api package, we compute an estimate of the regression slope and intercept given $price_i = \\alpha + \\beta * carat_i$ . The parameter `missing` instructs the function to drop missing values and further, we call `.fit()` to fit the linear model using the initiated variables provided. Printing the results of the estimate, we see our estimated regression slope is `x1=5625.451615` and estimated intercept is `const=192.492466`. As analysis, for every carat increase, the price of the diamond increaes by 5625.45, which is our slope."
   ]
  },
  {
   "cell_type": "code",
   "execution_count": 18,
   "metadata": {},
   "outputs": [
    {
     "name": "stdout",
     "output_type": "stream",
     "text": [
      "const     192.492466\n",
      "x1       5625.451615\n",
      "dtype: float64\n"
     ]
    }
   ],
   "source": [
    "x = carat_price[\"carat\"]\n",
    "y = carat_price[\"price\"]\n",
    "\n",
    "X = sm.add_constant(x.values)\n",
    "results = sm.OLS(y,X, missing = 'drop').fit()\n",
    "print(results.params)"
   ]
  },
  {
   "cell_type": "markdown",
   "metadata": {},
   "source": [
    "Having estimated our regression slope and itnercept using a linear model, we can graph the regression line by scatterplot visualization. Using the results returned by our `OLS()` function, we multiply the estimated slope to carat and add our intercept to construct the regression line. The regression output visualization provides insight on how the fitted the line looks in regards to our observed data."
   ]
  },
  {
   "cell_type": "code",
   "execution_count": 1,
   "metadata": {},
   "outputs": [
    {
     "ename": "NameError",
     "evalue": "name 'plt' is not defined",
     "output_type": "error",
     "traceback": [
      "\u001b[0;31m---------------------------------------------------------------------------\u001b[0m",
      "\u001b[0;31mNameError\u001b[0m                                 Traceback (most recent call last)",
      "\u001b[0;32m<ipython-input-1-023a8375720e>\u001b[0m in \u001b[0;36m<module>\u001b[0;34m\u001b[0m\n\u001b[0;32m----> 1\u001b[0;31m \u001b[0mplt\u001b[0m\u001b[0;34m.\u001b[0m\u001b[0mplot\u001b[0m\u001b[0;34m(\u001b[0m\u001b[0mx\u001b[0m\u001b[0;34m,\u001b[0m \u001b[0mresults\u001b[0m\u001b[0;34m.\u001b[0m\u001b[0mpredict\u001b[0m\u001b[0;34m(\u001b[0m\u001b[0mX\u001b[0m\u001b[0;34m)\u001b[0m\u001b[0;34m,\u001b[0m \u001b[0mcolor\u001b[0m\u001b[0;34m=\u001b[0m\u001b[0;34m'red'\u001b[0m\u001b[0;34m)\u001b[0m\u001b[0;34m;\u001b[0m\u001b[0;34m\u001b[0m\u001b[0;34m\u001b[0m\u001b[0m\n\u001b[0m\u001b[1;32m      2\u001b[0m \u001b[0;34m\u001b[0m\u001b[0m\n\u001b[1;32m      3\u001b[0m \u001b[0mplt\u001b[0m\u001b[0;34m.\u001b[0m\u001b[0mscatter\u001b[0m\u001b[0;34m(\u001b[0m\u001b[0mx\u001b[0m\u001b[0;34m,\u001b[0m\u001b[0my\u001b[0m\u001b[0;34m)\u001b[0m\u001b[0;34m;\u001b[0m\u001b[0;34m\u001b[0m\u001b[0;34m\u001b[0m\u001b[0m\n\u001b[1;32m      4\u001b[0m \u001b[0mplt\u001b[0m\u001b[0;34m.\u001b[0m\u001b[0mxlabel\u001b[0m\u001b[0;34m(\u001b[0m\u001b[0;34m\"Carat\"\u001b[0m\u001b[0;34m)\u001b[0m\u001b[0;34m;\u001b[0m\u001b[0;34m\u001b[0m\u001b[0;34m\u001b[0m\u001b[0m\n\u001b[1;32m      5\u001b[0m \u001b[0mplt\u001b[0m\u001b[0;34m.\u001b[0m\u001b[0mylabel\u001b[0m\u001b[0;34m(\u001b[0m\u001b[0;34m\"Price\"\u001b[0m\u001b[0;34m)\u001b[0m\u001b[0;34m;\u001b[0m\u001b[0;34m\u001b[0m\u001b[0;34m\u001b[0m\u001b[0m\n",
      "\u001b[0;31mNameError\u001b[0m: name 'plt' is not defined"
     ]
    }
   ],
   "source": [
    "plt.plot(x, results.predict(X), color='red');\n",
    "\n",
    "plt.scatter(x,y);\n",
    "plt.xlabel(\"Carat\");\n",
    "plt.ylabel(\"Price\");"
   ]
  },
  {
   "cell_type": "markdown",
   "metadata": {},
   "source": [
    "To delve into the results of our regression, we call the `summary()` function on the results of our estimatation. The fucntion returns insightful information such as the `correlation coefficient , p- value , confidence interval` and $R^2$ . Interpretation of these values follow in the cells below.\n"
   ]
  },
  {
   "cell_type": "code",
   "execution_count": 20,
   "metadata": {},
   "outputs": [
    {
     "data": {
      "text/html": [
       "<table class=\"simpletable\">\n",
       "<caption>OLS Regression Results</caption>\n",
       "<tr>\n",
       "  <th>Dep. Variable:</th>          <td>price</td>      <th>  R-squared:         </th> <td>   0.806</td>\n",
       "</tr>\n",
       "<tr>\n",
       "  <th>Model:</th>                   <td>OLS</td>       <th>  Adj. R-squared:    </th> <td>   0.805</td>\n",
       "</tr>\n",
       "<tr>\n",
       "  <th>Method:</th>             <td>Least Squares</td>  <th>  F-statistic:       </th> <td>   1127.</td>\n",
       "</tr>\n",
       "<tr>\n",
       "  <th>Date:</th>             <td>Wed, 18 Nov 2020</td> <th>  Prob (F-statistic):</th> <td>1.56e-98</td>\n",
       "</tr>\n",
       "<tr>\n",
       "  <th>Time:</th>                 <td>16:18:14</td>     <th>  Log-Likelihood:    </th> <td> -2519.4</td>\n",
       "</tr>\n",
       "<tr>\n",
       "  <th>No. Observations:</th>      <td>   273</td>      <th>  AIC:               </th> <td>   5043.</td>\n",
       "</tr>\n",
       "<tr>\n",
       "  <th>Df Residuals:</th>          <td>   271</td>      <th>  BIC:               </th> <td>   5050.</td>\n",
       "</tr>\n",
       "<tr>\n",
       "  <th>Df Model:</th>              <td>     1</td>      <th>                     </th>     <td> </td>   \n",
       "</tr>\n",
       "<tr>\n",
       "  <th>Covariance Type:</th>      <td>nonrobust</td>    <th>                     </th>     <td> </td>   \n",
       "</tr>\n",
       "</table>\n",
       "<table class=\"simpletable\">\n",
       "<tr>\n",
       "    <td></td>       <th>coef</th>     <th>std err</th>      <th>t</th>      <th>P>|t|</th>  <th>[0.025</th>    <th>0.975]</th>  \n",
       "</tr>\n",
       "<tr>\n",
       "  <th>const</th> <td>  192.4925</td> <td>  308.384</td> <td>    0.624</td> <td> 0.533</td> <td> -414.640</td> <td>  799.625</td>\n",
       "</tr>\n",
       "<tr>\n",
       "  <th>x1</th>    <td> 5625.4516</td> <td>  167.588</td> <td>   33.567</td> <td> 0.000</td> <td> 5295.511</td> <td> 5955.392</td>\n",
       "</tr>\n",
       "</table>\n",
       "<table class=\"simpletable\">\n",
       "<tr>\n",
       "  <th>Omnibus:</th>       <td>52.212</td> <th>  Durbin-Watson:     </th> <td>   0.496</td>\n",
       "</tr>\n",
       "<tr>\n",
       "  <th>Prob(Omnibus):</th> <td> 0.000</td> <th>  Jarque-Bera (JB):  </th> <td>  95.206</td>\n",
       "</tr>\n",
       "<tr>\n",
       "  <th>Skew:</th>          <td>-1.018</td> <th>  Prob(JB):          </th> <td>2.12e-21</td>\n",
       "</tr>\n",
       "<tr>\n",
       "  <th>Kurtosis:</th>      <td> 5.054</td> <th>  Cond. No.          </th> <td>    4.70</td>\n",
       "</tr>\n",
       "</table><br/><br/>Warnings:<br/>[1] Standard Errors assume that the covariance matrix of the errors is correctly specified."
      ],
      "text/plain": [
       "<class 'statsmodels.iolib.summary.Summary'>\n",
       "\"\"\"\n",
       "                            OLS Regression Results                            \n",
       "==============================================================================\n",
       "Dep. Variable:                  price   R-squared:                       0.806\n",
       "Model:                            OLS   Adj. R-squared:                  0.805\n",
       "Method:                 Least Squares   F-statistic:                     1127.\n",
       "Date:                Wed, 18 Nov 2020   Prob (F-statistic):           1.56e-98\n",
       "Time:                        16:18:14   Log-Likelihood:                -2519.4\n",
       "No. Observations:                 273   AIC:                             5043.\n",
       "Df Residuals:                     271   BIC:                             5050.\n",
       "Df Model:                           1                                         \n",
       "Covariance Type:            nonrobust                                         \n",
       "==============================================================================\n",
       "                 coef    std err          t      P>|t|      [0.025      0.975]\n",
       "------------------------------------------------------------------------------\n",
       "const        192.4925    308.384      0.624      0.533    -414.640     799.625\n",
       "x1          5625.4516    167.588     33.567      0.000    5295.511    5955.392\n",
       "==============================================================================\n",
       "Omnibus:                       52.212   Durbin-Watson:                   0.496\n",
       "Prob(Omnibus):                  0.000   Jarque-Bera (JB):               95.206\n",
       "Skew:                          -1.018   Prob(JB):                     2.12e-21\n",
       "Kurtosis:                       5.054   Cond. No.                         4.70\n",
       "==============================================================================\n",
       "\n",
       "Warnings:\n",
       "[1] Standard Errors assume that the covariance matrix of the errors is correctly specified.\n",
       "\"\"\""
      ]
     },
     "execution_count": 20,
     "metadata": {},
     "output_type": "execute_result"
    }
   ],
   "source": [
    "results.summary()"
   ]
  },
  {
   "cell_type": "markdown",
   "metadata": {},
   "source": [
    "Analysis of table information: <br>\n",
    "<br>\n",
    "**Coefficient:** The results show that the under the coefficient column(`coef`), we see the estimated carat slope as `x1` and estimated intercept as `const` . This is a verification of our work. <br>\n",
    "<br>\n",
    "**p-value:** The p-value for our regression line slope is under the coloumn `P>|t|` which is 0.000. We understand the p-value to be the probability of observing a slope at least as extreme as our estimated slope under the null hypothesis which states the slope is 0. Given that our p-value is 0.000, there is 0% chance of observing our slope of 5625.4516 in a sample of data if the true slope is 0 (Null Hypothesis). The p-value provides basis as to reject or fail to reject the null hypothesis which. <br>\n",
    "<br>\n",
    "**Confidence Interval:** While we can use our p-value to determine whether to reject or fail to reject the null hypothesis, confidence intervals are also handy in giving a threshold for value cutoffs. In our regression result, the 95% confidence interval for the slope is [5295.511,5955.392]. The confidence interval allows us to infer that approximately 95% of the time, we can be confident or expect the true slope to lie within our interval. For example, if we were to conduct this process 100 times, we can expect 95 of our 100 confidence intervals to capture the true slope. We can also use the confidence interval to choose whether to accept or reject the null hypothesis. <br>\n",
    "<br>\n",
    "**$R^2$** : $R^2$ represents the percentage of the variance in our dependent variable, `price` that is explained by our independent variable `carat` . Since $R^2$ is simply correlation, $r$ squared, it must be a value between any squared number is positive and the bounds are 0 and 1 because $r$ is between -1 and 1. In our regression model, our $R^2$ is .806 which means approximately 80.6% of the variation in price is explained by carat using the regression line. Therefore, the other 19.4% or variation is explained by some other factor. Like $r$ which measures the strength of linear asosciation between two variables which we want to be near 1, $R^2$ is the percentage of `price` variation explained by `carat` which we also want to be near 1.\n"
   ]
  },
  {
   "cell_type": "markdown",
   "metadata": {},
   "source": [
    "## Test Statistic Significance -> Reject/Fail to Reject Null Hypothesis"
   ]
  },
  {
   "cell_type": "markdown",
   "metadata": {},
   "source": [
    "we can use the p-value and/or confidence order to determine whether we reject or fail to reject our null hypothesis based on our regression results <br>\n",
    "<br>\n",
    "**p-value:** If the significance level or cutoff threshold is 5% or 0.05 and our observed p-value is 0.000, we reject the null hypothesis because 0.000<0.05. <br>\n",
    "**Confidence Interval:** Our confidence interval for the slope is [5295.511,5955.392] and our null hypothesis states the slope is 0. Note that 0 is not in our range of values and thus, we reject the null hypothesis."
   ]
  },
  {
   "cell_type": "markdown",
   "metadata": {},
   "source": [
    "The code below generates a residual plot to visual our model's residuals. A residual is an error in our estiamtion/prediction as it measures the vertical distance between each observation and the predicted value on the regression line. This difference is calculated by the first line in our code and we proceed to plot for each carat , how much our predicted price was off by. The residual scatterplot is displayed below."
   ]
  },
  {
   "cell_type": "code",
   "execution_count": 21,
   "metadata": {},
   "outputs": [
    {
     "data": {
      "image/png": "[encoded data removed]",
      "text/plain": [
       "<Figure size 432x288 with 1 Axes>"
      ]
     },
     "metadata": {
      "needs_background": "light"
     },
     "output_type": "display_data"
    }
   ],
   "source": [
    "residuals = y-results.predict(X)\n",
    "plt.scatter(x, residuals, color='blue')\n",
    "plt.title(\"Residuals Plot\")\n",
    "plt.xlabel(\"Carat\")\n",
    "plt.ylabel(\"residual\")\n",
    "\n",
    "plt.plot(x,[0]*len(x), color='green');"
   ]
  },
  {
   "cell_type": "markdown",
   "metadata": {},
   "source": [
    "Observing the residual plot above, we can conclude that there is an issue regarding heteroscedasticity which is a change in variance of our residual plots. Note that the variance of the residuals are much higher past two\n",
    "carat and the overall plot has an unwanted pattern. Since there is a pattern and errors are not random looking, there are mistakes in the model and to potentially fix this error, we may consider incorporating another explanatory variable. In conclusion, the accuracy of the regression line from our model is better for some values of carat and not as much for others."
   ]
  }
 ],
 "metadata": {
  "kernelspec": {
   "display_name": "Python 3",
   "language": "python",
   "name": "python3"
  },
  "language_info": {
   "codemirror_mode": {
    "name": "ipython",
    "version": 3
   },
   "file_extension": ".py",
   "mimetype": "text/x-python",
   "name": "python",
   "nbconvert_exporter": "python",
   "pygments_lexer": "ipython3",
   "version": "3.7.6"
  }
 },
 "nbformat": 4,
 "nbformat_minor": 4
}
